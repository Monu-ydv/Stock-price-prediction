{
 "cells": [
  {
   "cell_type": "markdown",
   "id": "219f4b9d",
   "metadata": {},
   "source": [
    "# 📈 Stock Price Prediction with SQL and Python\n",
    "\n",
    "This notebook walks you through predicting stock prices using historical data stored in an SQLite database.\n"
   ]
  },
  {
   "cell_type": "code",
   "execution_count": null,
   "id": "4e333aca",
   "metadata": {},
   "outputs": [],
   "source": [
    "import sqlite3\n",
    "import pandas as pd\n",
    "import matplotlib.pyplot as plt\n",
    "from sklearn.linear_model import LinearRegression\n",
    "from sklearn.model_selection import train_test_split\n",
    "from sklearn.metrics import mean_squared_error\n"
   ]
  },
  {
   "cell_type": "code",
   "execution_count": null,
   "id": "d5847bbf",
   "metadata": {},
   "outputs": [],
   "source": [
    "# Connect to SQLite database (or create it)\n",
    "conn = sqlite3.connect(\"stocks.db\")\n",
    "cursor = conn.cursor()\n",
    "\n",
    "# Read SQL script and execute it\n",
    "with open(\"stock_data.sql\", \"r\") as f:\n",
    "    cursor.executescript(f.read())\n",
    "conn.commit()\n"
   ]
  },
  {
   "cell_type": "code",
   "execution_count": null,
   "id": "62df6e55",
   "metadata": {},
   "outputs": [],
   "source": [
    "# Load stock data from SQLite into a DataFrame\n",
    "df = pd.read_sql_query(\"SELECT * FROM stocks\", conn)\n",
    "df['date'] = pd.to_datetime(df['date'])  # Convert date column\n",
    "df.sort_values(\"date\", inplace=True)\n",
    "df.reset_index(drop=True, inplace=True)\n",
    "df.head()"
   ]
  },
  {
   "cell_type": "code",
   "execution_count": null,
   "id": "a15dfa31",
   "metadata": {},
   "outputs": [],
   "source": [
    "# Plot stock closing prices\n",
    "plt.figure(figsize=(8,4))\n",
    "plt.plot(df['date'], df['close'], marker='o')\n",
    "plt.title(\"Stock Closing Prices\")\n",
    "plt.xlabel(\"Date\")\n",
    "plt.ylabel(\"Close Price\")\n",
    "plt.grid(True)\n",
    "plt.show()\n"
   ]
  },
  {
   "cell_type": "code",
   "execution_count": null,
   "id": "a3c5e982",
   "metadata": {},
   "outputs": [],
   "source": [
    "# Use day index as feature to predict closing price\n",
    "df['day_index'] = range(len(df))\n",
    "\n",
    "X = df[['day_index']]\n",
    "y = df['close']\n",
    "\n",
    "# Train-test split\n",
    "X_train, X_test, y_train, y_test = train_test_split(X, y, test_size=0.2, random_state=42)\n"
   ]
  },
  {
   "cell_type": "code",
   "execution_count": null,
   "id": "43d2e8d8",
   "metadata": {},
   "outputs": [],
   "source": [
    "# Linear Regression model\n",
    "model = LinearRegression()\n",
    "model.fit(X_train, y_train)\n",
    "\n",
    "# Predict\n",
    "y_pred = model.predict(X_test)\n",
    "\n",
    "# Evaluation\n",
    "mse = mean_squared_error(y_test, y_pred)\n",
    "print(f\"Mean Squared Error: {mse:.2f}\")\n"
   ]
  },
  {
   "cell_type": "code",
   "execution_count": null,
   "id": "26a29bd5",
   "metadata": {},
   "outputs": [],
   "source": [
    "# Visualize predictions\n",
    "plt.scatter(X_test, y_test, color='blue', label='Actual')\n",
    "plt.plot(X_test, y_pred, color='red', label='Predicted')\n",
    "plt.title(\"Actual vs Predicted Closing Prices\")\n",
    "plt.xlabel(\"Day Index\")\n",
    "plt.ylabel(\"Close Price\")\n",
    "plt.legend()\n",
    "plt.grid(True)\n",
    "plt.show()\n"
   ]
  }
 ],
 "metadata": {},
 "nbformat": 4,
 "nbformat_minor": 5
}
